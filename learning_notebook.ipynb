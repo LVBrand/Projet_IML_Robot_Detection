{
 "cells": [
  {
   "cell_type": "code",
   "execution_count": 2,
   "id": "ec44e8c8",
   "metadata": {},
   "outputs": [],
   "source": [
    "import os, shutil\n",
    "import tensorflow as tf\n",
    "from keras import layers, models, optimizers\n",
    "from keras.preprocessing.image import ImageDataGenerator\n",
    "import matplotlib.pyplot as plt\n",
    "from keras.preprocessing import image"
   ]
  },
  {
   "cell_type": "markdown",
   "id": "5af9f3e3",
   "metadata": {},
   "source": [
    "# Loading Data"
   ]
  },
  {
   "cell_type": "code",
   "execution_count": 3,
   "id": "64588038",
   "metadata": {},
   "outputs": [],
   "source": [
    "# You need to specify where's your project directory\n",
    "pdir = '/Users/Lucas/Desktop/IML/Projet_IML_Robot/'\n",
    "\n",
    "# The directory where you uncompressed the dogs vs cats dataset\n",
    "# Yours will be different\n",
    "original_dataset_dir = '/Users/Lucas/Desktop/IML/kaggle_dataset_dogs_vs_cats_uncompressed/train'"
   ]
  },
  {
   "cell_type": "markdown",
   "id": "6949fc93",
   "metadata": {},
   "source": [
    "### Creating directories"
   ]
  },
  {
   "cell_type": "code",
   "execution_count": 4,
   "id": "b9f3d1d5",
   "metadata": {},
   "outputs": [],
   "source": [
    "# Directory where you'll store your smaller dataset\n",
    "base_dir = pdir+'data'\n",
    "if (os.path.exists(pdir+'data'))==False:\n",
    "    os.mkdir(base_dir)\n",
    "\n",
    "# Data / Train\n",
    "train_dir = os.path.join(base_dir, 'train')\n",
    "if (os.path.exists(pdir+'data/train'))==False:\n",
    "    os.mkdir(train_dir)\n",
    "\n",
    "# Data / Validation\n",
    "validation_dir = os.path.join(base_dir, 'validation')\n",
    "if (os.path.exists(pdir+'data/validation'))==False:\n",
    "    os.mkdir(validation_dir)\n",
    "\n",
    "# Data / Test\n",
    "test_dir = os.path.join(base_dir, 'test')\n",
    "if (os.path.exists(pdir+'data/test'))==False:\n",
    "    os.mkdir(test_dir)\n",
    "\n",
    "# Data / Train / Cats\n",
    "train_cats_dir = os.path.join(train_dir, 'cats')\n",
    "if (os.path.exists(pdir+'data/train/cats'))==False:\n",
    "    os.mkdir(train_cats_dir)\n",
    "\n",
    "# # Data / Train / Dogs\n",
    "train_dogs_dir = os.path.join(train_dir, 'dogs')\n",
    "if (os.path.exists(pdir+'data/train/dogs'))==False:\n",
    "    os.mkdir(train_dogs_dir)\n",
    "\n",
    "# Data / Validation / Cats\n",
    "validation_cats_dir = os.path.join(validation_dir, 'cats')\n",
    "if (os.path.exists(pdir+'data/validation/cats'))==False:\n",
    "    os.mkdir(validation_cats_dir)\n",
    "\n",
    "# Data / Validation / Dogs  \n",
    "validation_dogs_dir = os.path.join(validation_dir, 'dogs')\n",
    "if (os.path.exists(pdir+'data/validation/dogs'))==False:\n",
    "    os.mkdir(validation_dogs_dir)\n",
    "\n",
    "# Data / Test / Cats    \n",
    "test_cats_dir = os.path.join(test_dir, 'cats')\n",
    "if (os.path.exists(pdir+'data/test/cats'))==False:\n",
    "    os.mkdir(test_cats_dir)\n",
    "\n",
    "# Data / Test / Dogs   \n",
    "test_dogs_dir = os.path.join(test_dir, 'dogs')\n",
    "if (os.path.exists(pdir+'data/test/dogs'))==False:\n",
    "    os.mkdir(test_dogs_dir)"
   ]
  },
  {
   "cell_type": "markdown",
   "id": "c93c9437",
   "metadata": {},
   "source": [
    "### Copying images to training, validation, and test directories"
   ]
  },
  {
   "cell_type": "code",
   "execution_count": 5,
   "id": "8e8dcc86",
   "metadata": {},
   "outputs": [
    {
     "name": "stdout",
     "output_type": "stream",
     "text": [
      "total training cat images : 1000\n",
      "total validation cat images : 500\n",
      "total test cat images : 500\n",
      "total training dog images : 1000\n",
      "total validation dog images : 500\n",
      "total test dog images : 500\n"
     ]
    }
   ],
   "source": [
    "# Copy the first 1000 cat images to train_cats_dir\n",
    "if (os.path.exists(pdir+'data/train/cats/cat.1.jpg'))==False:\n",
    "    fnames = ['cat.{}.jpg'.format(i) for i in range(1000)]\n",
    "    for fname in fnames:\n",
    "        src = os.path.join(original_dataset_dir, fname)\n",
    "        dst = os.path.join(train_cats_dir, fname)\n",
    "        shutil.copyfile(src, dst)\n",
    "print('total training cat images :', len(os.listdir(train_cats_dir)))\n",
    "\n",
    "\n",
    "# Copy the next 500 cat images to validation_cats_dir\n",
    "if (os.path.exists(pdir+'data/validation/cats/cat.1000.jpg'))==False:\n",
    "    fnames = ['cat.{}.jpg'.format(i) for i in range(1000, 1500)]\n",
    "    for fname in fnames:\n",
    "        src = os.path.join(original_dataset_dir, fname)\n",
    "        dst = os.path.join(validation_cats_dir, fname)\n",
    "        shutil.copyfile(src, dst)\n",
    "print('total validation cat images :', len(os.listdir(validation_cats_dir)))\n",
    "\n",
    "\n",
    "# Copy the next 500 cat images to test_cats_dir\n",
    "if (os.path.exists(pdir+'data/test/cats/cat.1500.jpg'))==False:\n",
    "    fnames = ['cat.{}.jpg'.format(i) for i in range(1500, 2000)]\n",
    "    for fname in fnames:\n",
    "        src = os.path.join(original_dataset_dir, fname)\n",
    "        dst = os.path.join(test_cats_dir, fname)\n",
    "        shutil.copyfile(src, dst)\n",
    "print('total test cat images :', len(os.listdir(test_cats_dir)))\n",
    "\n",
    "\n",
    "# Copy the first 1000 dog images to train_dogs_dir\n",
    "if (os.path.exists(pdir+'data/train/dogs/cat.1.jpg'))==False:\n",
    "    fnames = ['dog.{}.jpg'.format(i) for i in range(1000)]\n",
    "    for fname in fnames:\n",
    "        src = os.path.join(original_dataset_dir, fname)\n",
    "        dst = os.path.join(train_dogs_dir, fname)\n",
    "        shutil.copyfile(src, dst)\n",
    "print('total training dog images :', len(os.listdir(train_dogs_dir)))\n",
    "\n",
    "\n",
    "# Copy the next 500 dog images to validation_dogs_dir\n",
    "if (os.path.exists(pdir+'data/validation/dogs/cat.1000.jpg'))==False:\n",
    "    fnames = ['dog.{}.jpg'.format(i) for i in range(1000, 1500)]\n",
    "    for fname in fnames:\n",
    "        src = os.path.join(original_dataset_dir, fname)\n",
    "        dst = os.path.join(validation_dogs_dir, fname)\n",
    "        shutil.copyfile(src, dst)\n",
    "print('total validation dog images :', len(os.listdir(validation_dogs_dir)))\n",
    "\n",
    "    \n",
    "# Copy the next 500 dog images to test_dogs_dir\n",
    "if (os.path.exists(pdir+'data/test/dogs/cat.1500.jpg'))==False:\n",
    "    fnames = ['dog.{}.jpg'.format(i) for i in range(1500, 2000)]\n",
    "    for fname in fnames:\n",
    "        src = os.path.join(original_dataset_dir, fname)\n",
    "        dst = os.path.join(test_dogs_dir, fname)\n",
    "        shutil.copyfile(src, dst)\n",
    "print('total test dog images :', len(os.listdir(test_dogs_dir)))"
   ]
  },
  {
   "cell_type": "markdown",
   "id": "2fd19496",
   "metadata": {},
   "source": [
    "# Data Preprocessing"
   ]
  },
  {
   "cell_type": "code",
   "execution_count": 14,
   "id": "3bb4a75c",
   "metadata": {},
   "outputs": [
    {
     "name": "stdout",
     "output_type": "stream",
     "text": [
      "Found 2000 images belonging to 2 classes.\n",
      "Found 1000 images belonging to 2 classes.\n"
     ]
    }
   ],
   "source": [
    "train_datagen = ImageDataGenerator(\n",
    "    rescale=1./255,\n",
    "    rotation_range=40,\n",
    "    width_shift_range=0.2,\n",
    "    height_shift_range=0.2,\n",
    "    shear_range=0.2,\n",
    "    zoom_range=0.2,\n",
    "    horizontal_flip=True,)\n",
    "\n",
    "test_datagen = ImageDataGenerator(rescale=1./255)\n",
    "\n",
    "train_generator = train_datagen.flow_from_directory(\n",
    "    train_dir,\n",
    "    target_size=(150, 150),\n",
    "    batch_size=20,\n",
    "    class_mode='binary')\n",
    "\n",
    "validation_generator = test_datagen.flow_from_directory(\n",
    "    validation_dir,\n",
    "    target_size=(150, 150),\n",
    "    batch_size=20,\n",
    "    class_mode='binary')"
   ]
  },
  {
   "cell_type": "code",
   "execution_count": null,
   "id": "e8454f8e",
   "metadata": {},
   "outputs": [],
   "source": []
  },
  {
   "cell_type": "code",
   "execution_count": null,
   "id": "75de8669",
   "metadata": {},
   "outputs": [],
   "source": []
  },
  {
   "cell_type": "markdown",
   "id": "cdb001f5",
   "metadata": {},
   "source": [
    "### Instantiating a Convnet"
   ]
  },
  {
   "cell_type": "code",
   "execution_count": 16,
   "id": "80855964",
   "metadata": {},
   "outputs": [
    {
     "name": "stdout",
     "output_type": "stream",
     "text": [
      "Model: \"sequential_2\"\n",
      "_________________________________________________________________\n",
      "Layer (type)                 Output Shape              Param #   \n",
      "=================================================================\n",
      "conv2d_8 (Conv2D)            (None, 148, 148, 32)      896       \n",
      "_________________________________________________________________\n",
      "max_pooling2d_8 (MaxPooling2 (None, 74, 74, 32)        0         \n",
      "_________________________________________________________________\n",
      "conv2d_9 (Conv2D)            (None, 72, 72, 64)        18496     \n",
      "_________________________________________________________________\n",
      "max_pooling2d_9 (MaxPooling2 (None, 36, 36, 64)        0         \n",
      "_________________________________________________________________\n",
      "conv2d_10 (Conv2D)           (None, 34, 34, 128)       73856     \n",
      "_________________________________________________________________\n",
      "max_pooling2d_10 (MaxPooling (None, 17, 17, 128)       0         \n",
      "_________________________________________________________________\n",
      "conv2d_11 (Conv2D)           (None, 15, 15, 128)       147584    \n",
      "_________________________________________________________________\n",
      "max_pooling2d_11 (MaxPooling (None, 7, 7, 128)         0         \n",
      "_________________________________________________________________\n",
      "flatten_2 (Flatten)          (None, 6272)              0         \n",
      "_________________________________________________________________\n",
      "dropout_2 (Dropout)          (None, 6272)              0         \n",
      "_________________________________________________________________\n",
      "dense_4 (Dense)              (None, 512)               3211776   \n",
      "_________________________________________________________________\n",
      "dense_5 (Dense)              (None, 1)                 513       \n",
      "=================================================================\n",
      "Total params: 3,453,121\n",
      "Trainable params: 3,453,121\n",
      "Non-trainable params: 0\n",
      "_________________________________________________________________\n"
     ]
    }
   ],
   "source": [
    "model = models.Sequential()\n",
    "\n",
    "model.add(layers.Conv2D(32, (3, 3), activation='relu', input_shape=(150, 150, 3)))\n",
    "model.add(layers.MaxPooling2D((2, 2)))\n",
    "\n",
    "model.add(layers.Conv2D(64, (3, 3), activation='relu'))\n",
    "model.add(layers.MaxPooling2D((2, 2)))\n",
    "\n",
    "model.add(layers.Conv2D(128, (3, 3), activation='relu'))\n",
    "model.add(layers.MaxPooling2D((2, 2)))\n",
    "\n",
    "model.add(layers.Conv2D(128, (3, 3), activation='relu'))\n",
    "model.add(layers.MaxPooling2D((2, 2)))\n",
    "\n",
    "model.add(layers.Flatten())\n",
    "model.add(layers.Dropout(0.2))\n",
    "model.add(layers.Dense(512, activation='relu'))\n",
    "model.add(layers.Dense(1, activation='sigmoid'))\n",
    "\n",
    "model.summary()\n",
    "\n",
    "# We ended the network with a single sigmoid unit, so we'll use binary crossentropy as the loss\n",
    "model.compile(loss='binary_crossentropy',\n",
    "              optimizer=optimizers.RMSprop(lr=1e-4), \n",
    "              metrics=['acc'])\n"
   ]
  },
  {
   "cell_type": "markdown",
   "id": "b2df7686",
   "metadata": {},
   "source": [
    "### Configuring the model for training"
   ]
  },
  {
   "cell_type": "code",
   "execution_count": null,
   "id": "3cfbbc84",
   "metadata": {},
   "outputs": [],
   "source": []
  },
  {
   "cell_type": "markdown",
   "id": "bbe468c2",
   "metadata": {},
   "source": [
    "### Fitting the model"
   ]
  },
  {
   "cell_type": "code",
   "execution_count": 17,
   "id": "75c0e998",
   "metadata": {},
   "outputs": [
    {
     "name": "stdout",
     "output_type": "stream",
     "text": [
      "Epoch 1/30\n",
      "  1/100 [..............................] - ETA: 0s - loss: 0.7014 - acc: 0.3500WARNING:tensorflow:Callbacks method `on_train_batch_end` is slow compared to the batch time (batch time: 0.0060s vs `on_train_batch_end` time: 0.0100s). Check your callbacks.\n",
      "100/100 [==============================] - 11s 114ms/step - loss: 0.6949 - acc: 0.5015 - val_loss: 0.6841 - val_acc: 0.5670\n",
      "Epoch 2/30\n",
      "100/100 [==============================] - 11s 112ms/step - loss: 0.6835 - acc: 0.5640 - val_loss: 0.6889 - val_acc: 0.5140\n",
      "Epoch 3/30\n",
      "100/100 [==============================] - 11s 114ms/step - loss: 0.6686 - acc: 0.5900 - val_loss: 0.6401 - val_acc: 0.6320\n",
      "Epoch 4/30\n",
      "100/100 [==============================] - 11s 114ms/step - loss: 0.6514 - acc: 0.6050 - val_loss: 0.6159 - val_acc: 0.6620\n",
      "Epoch 5/30\n",
      "100/100 [==============================] - 11s 113ms/step - loss: 0.6301 - acc: 0.6290 - val_loss: 0.6051 - val_acc: 0.6760\n",
      "Epoch 6/30\n",
      "100/100 [==============================] - 11s 112ms/step - loss: 0.6265 - acc: 0.6330 - val_loss: 0.5781 - val_acc: 0.7050\n",
      "Epoch 7/30\n",
      "100/100 [==============================] - 11s 112ms/step - loss: 0.6067 - acc: 0.6615 - val_loss: 0.5722 - val_acc: 0.7000\n",
      "Epoch 8/30\n",
      "100/100 [==============================] - 11s 112ms/step - loss: 0.6014 - acc: 0.6730 - val_loss: 0.8464 - val_acc: 0.5710\n",
      "Epoch 9/30\n",
      "100/100 [==============================] - 11s 112ms/step - loss: 0.5980 - acc: 0.6775 - val_loss: 0.5703 - val_acc: 0.6980\n",
      "Epoch 10/30\n",
      "100/100 [==============================] - 11s 113ms/step - loss: 0.5981 - acc: 0.6830 - val_loss: 0.5660 - val_acc: 0.7040\n",
      "Epoch 11/30\n",
      "100/100 [==============================] - 11s 112ms/step - loss: 0.5834 - acc: 0.6940 - val_loss: 0.5660 - val_acc: 0.6990\n",
      "Epoch 12/30\n",
      "100/100 [==============================] - 11s 113ms/step - loss: 0.5810 - acc: 0.6960 - val_loss: 0.5503 - val_acc: 0.7130\n",
      "Epoch 13/30\n",
      "100/100 [==============================] - 11s 113ms/step - loss: 0.5693 - acc: 0.7060 - val_loss: 0.5860 - val_acc: 0.6750\n",
      "Epoch 14/30\n",
      "100/100 [==============================] - 11s 114ms/step - loss: 0.5598 - acc: 0.7165 - val_loss: 0.5476 - val_acc: 0.7090\n",
      "Epoch 15/30\n",
      "100/100 [==============================] - 12s 117ms/step - loss: 0.5695 - acc: 0.7065 - val_loss: 0.5901 - val_acc: 0.6720\n",
      "Epoch 16/30\n",
      "100/100 [==============================] - 12s 115ms/step - loss: 0.5613 - acc: 0.7090 - val_loss: 0.5199 - val_acc: 0.7380\n",
      "Epoch 17/30\n",
      "100/100 [==============================] - 11s 114ms/step - loss: 0.5509 - acc: 0.7155 - val_loss: 0.5891 - val_acc: 0.6750\n",
      "Epoch 18/30\n",
      "100/100 [==============================] - 11s 114ms/step - loss: 0.5532 - acc: 0.7245 - val_loss: 0.5177 - val_acc: 0.7350\n",
      "Epoch 19/30\n",
      "100/100 [==============================] - 11s 114ms/step - loss: 0.5524 - acc: 0.7190 - val_loss: 0.5743 - val_acc: 0.6840\n",
      "Epoch 20/30\n",
      "100/100 [==============================] - 12s 115ms/step - loss: 0.5445 - acc: 0.7145 - val_loss: 0.5437 - val_acc: 0.7240\n",
      "Epoch 21/30\n",
      "100/100 [==============================] - 12s 116ms/step - loss: 0.5327 - acc: 0.7315 - val_loss: 0.5116 - val_acc: 0.7440\n",
      "Epoch 22/30\n",
      "100/100 [==============================] - 12s 115ms/step - loss: 0.5304 - acc: 0.7380 - val_loss: 0.5203 - val_acc: 0.7280\n",
      "Epoch 23/30\n",
      "100/100 [==============================] - 12s 118ms/step - loss: 0.5419 - acc: 0.7380 - val_loss: 0.5122 - val_acc: 0.7410\n",
      "Epoch 24/30\n",
      "100/100 [==============================] - 12s 117ms/step - loss: 0.5338 - acc: 0.7205 - val_loss: 0.5176 - val_acc: 0.7310\n",
      "Epoch 25/30\n",
      "100/100 [==============================] - 12s 117ms/step - loss: 0.5213 - acc: 0.7375 - val_loss: 0.5913 - val_acc: 0.6920\n",
      "Epoch 26/30\n",
      "100/100 [==============================] - 12s 117ms/step - loss: 0.5308 - acc: 0.7410 - val_loss: 0.5189 - val_acc: 0.7310\n",
      "Epoch 27/30\n",
      "100/100 [==============================] - 12s 116ms/step - loss: 0.5190 - acc: 0.7475 - val_loss: 0.5525 - val_acc: 0.7320\n",
      "Epoch 28/30\n",
      "100/100 [==============================] - 12s 116ms/step - loss: 0.5181 - acc: 0.7340 - val_loss: 0.5056 - val_acc: 0.7470\n",
      "Epoch 29/30\n",
      "100/100 [==============================] - 12s 116ms/step - loss: 0.5177 - acc: 0.7335 - val_loss: 0.5152 - val_acc: 0.7410\n",
      "Epoch 30/30\n",
      "100/100 [==============================] - 12s 116ms/step - loss: 0.5095 - acc: 0.7455 - val_loss: 0.5544 - val_acc: 0.7140\n"
     ]
    }
   ],
   "source": [
    "# Fit the model using the generator\n",
    "history = model.fit_generator(\n",
    "    train_generator,\n",
    "    steps_per_epoch=100,\n",
    "    epochs=30,\n",
    "    validation_data=validation_generator,\n",
    "    validation_steps=50)\n"
   ]
  },
  {
   "cell_type": "code",
   "execution_count": 19,
   "id": "b9297273",
   "metadata": {},
   "outputs": [],
   "source": [
    "# saving the model\n",
    "model.save('cats_and_dogs_small_2.h5')"
   ]
  },
  {
   "cell_type": "code",
   "execution_count": 18,
   "id": "e2e8aaed",
   "metadata": {},
   "outputs": [
    {
     "data": {
      "image/png": "[encoded data removed]",
      "text/plain": [
       "<Figure size 432x288 with 1 Axes>"
      ]
     },
     "metadata": {
      "needs_background": "light"
     },
     "output_type": "display_data"
    },
    {
     "data": {
      "image/png": "[encoded data removed]",
      "text/plain": [
       "<Figure size 432x288 with 1 Axes>"
      ]
     },
     "metadata": {
      "needs_background": "light"
     },
     "output_type": "display_data"
    }
   ],
   "source": [
    "# Displaying curbes of loss and accuracy during training\n",
    "acc = history.history['acc']\n",
    "val_acc = history.history['val_acc']\n",
    "loss = history.history['loss']\n",
    "val_loss = history.history['val_loss']\n",
    "\n",
    "epochs = range(1, len(acc) + 1)\n",
    "\n",
    "plt.plot(epochs, acc, 'bo', label='Training acc')\n",
    "plt.plot(epochs, val_acc, 'b', label='Validation acc')\n",
    "plt.title('Training and validation accuracy')\n",
    "plt.legend()\n",
    "\n",
    "plt.figure()\n",
    "\n",
    "plt.plot(epochs, loss, 'bo', label='Training loss')\n",
    "plt.plot(epochs, val_loss, 'b', label='Validation loss')\n",
    "plt.title('Training and validation loss')\n",
    "plt.legend()\n",
    "\n",
    "plt.show()"
   ]
  },
  {
   "cell_type": "code",
   "execution_count": null,
   "id": "6ce0090d",
   "metadata": {},
   "outputs": [],
   "source": [
    "model.predict()"
   ]
  },
  {
   "cell_type": "code",
   "execution_count": null,
   "id": "860b0138",
   "metadata": {},
   "outputs": [],
   "source": []
  },
  {
   "cell_type": "code",
   "execution_count": null,
   "id": "cbb22594",
   "metadata": {},
   "outputs": [],
   "source": []
  }
 ],
 "metadata": {
  "kernelspec": {
   "display_name": "Python 3.8 (tensorflow)",
   "language": "python",
   "name": "tensorflow"
  },
  "language_info": {
   "codemirror_mode": {
    "name": "ipython",
    "version": 3
   },
   "file_extension": ".py",
   "mimetype": "text/x-python",
   "name": "python",
   "nbconvert_exporter": "python",
   "pygments_lexer": "ipython3",
   "version": "3.8.11"
  }
 },
 "nbformat": 4,
 "nbformat_minor": 5
}
